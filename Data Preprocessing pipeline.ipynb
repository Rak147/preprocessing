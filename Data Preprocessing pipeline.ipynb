{
 "cells": [
  {
   "cell_type": "markdown",
   "id": "0d583e5f",
   "metadata": {},
   "source": [
    "## Identify numerical categorical variable\n",
    "## Handling Missing values numerical features\n",
    "## Detect handle outliers in numerical features\n",
    "## Normalize(scaling) numerical features \n",
    "## Handling missing values in categorical variables"
   ]
  },
  {
   "cell_type": "code",
   "execution_count": 1,
   "id": "e6147fc9",
   "metadata": {},
   "outputs": [],
   "source": [
    "import numpy as np\n",
    "import pandas as pd\n",
    "from sklearn.preprocessing import StandardScaler, OneHotEncoder"
   ]
  },
  {
   "cell_type": "code",
   "execution_count": 13,
   "id": "4893343e",
   "metadata": {},
   "outputs": [],
   "source": [
    "def pre_process(df):\n",
    "    numeric_features = df.select_dtypes(include=[np.number]).columns\n",
    "    categorical_features = df.select_dtypes(exclude=[np.number]).columns\n",
    "    \n",
    "    # Filling NAN using mean for numerical variables\n",
    "    df[numeric_features]=df[numeric_features].fillna(df[numeric_features].mean())\n",
    "    df[categorical_features]=df[categorical_features].fillna(df[categorical_features].mode().iloc[0])\n",
    "    \n",
    "    # Handling Outliers\n",
    "    for features in numeric_features:\n",
    "        q1 = df[features].quantile(0.25)\n",
    "        q3 = df[features].quantile(0.75)\n",
    "        iqr = q3-q1\n",
    "        low_outlier=q1 - 1.5*iqr\n",
    "        upper_outlier=q3 - 1.5*iqr\n",
    "        df[features]=np.where((df[features]<low_outlier)|(df[features]>upper_outlier),df[features].median(),df[features])\n",
    "        \n",
    "    scaler=StandardScaler()\n",
    "    scaled_data=scaler.fit_transform(df[numeric_features])\n",
    "    df[numeric_features]=scaler.transform(df[numeric_features])\n",
    "    \n",
    "    return df\n",
    "    \n",
    "        \n",
    "    "
   ]
  },
  {
   "cell_type": "code",
   "execution_count": 14,
   "id": "6159b327",
   "metadata": {},
   "outputs": [],
   "source": [
    "df=pd.read_csv(\"C:/Users/Rajan/Desktop/Rakesh/preprocessing/data.csv\")\n",
    "preprocessed_df = pre_process(df)\n"
   ]
  },
  {
   "cell_type": "code",
   "execution_count": 15,
   "id": "8c1b02c5",
   "metadata": {},
   "outputs": [
    {
     "data": {
      "text/html": [
       "<div>\n",
       "<style scoped>\n",
       "    .dataframe tbody tr th:only-of-type {\n",
       "        vertical-align: middle;\n",
       "    }\n",
       "\n",
       "    .dataframe tbody tr th {\n",
       "        vertical-align: top;\n",
       "    }\n",
       "\n",
       "    .dataframe thead th {\n",
       "        text-align: right;\n",
       "    }\n",
       "</style>\n",
       "<table border=\"1\" class=\"dataframe\">\n",
       "  <thead>\n",
       "    <tr style=\"text-align: right;\">\n",
       "      <th></th>\n",
       "      <th>NumericFeature1</th>\n",
       "      <th>NumericFeature2</th>\n",
       "      <th>CategoricalFeature</th>\n",
       "    </tr>\n",
       "  </thead>\n",
       "  <tbody>\n",
       "    <tr>\n",
       "      <th>0</th>\n",
       "      <td>-2.236068</td>\n",
       "      <td>-2.236068</td>\n",
       "      <td>A</td>\n",
       "    </tr>\n",
       "    <tr>\n",
       "      <th>1</th>\n",
       "      <td>0.447214</td>\n",
       "      <td>0.447214</td>\n",
       "      <td>B</td>\n",
       "    </tr>\n",
       "    <tr>\n",
       "      <th>2</th>\n",
       "      <td>0.447214</td>\n",
       "      <td>0.447214</td>\n",
       "      <td>A</td>\n",
       "    </tr>\n",
       "    <tr>\n",
       "      <th>3</th>\n",
       "      <td>0.447214</td>\n",
       "      <td>0.447214</td>\n",
       "      <td>A</td>\n",
       "    </tr>\n",
       "    <tr>\n",
       "      <th>4</th>\n",
       "      <td>0.447214</td>\n",
       "      <td>0.447214</td>\n",
       "      <td>B</td>\n",
       "    </tr>\n",
       "    <tr>\n",
       "      <th>5</th>\n",
       "      <td>0.447214</td>\n",
       "      <td>0.447214</td>\n",
       "      <td>C</td>\n",
       "    </tr>\n",
       "  </tbody>\n",
       "</table>\n",
       "</div>"
      ],
      "text/plain": [
       "   NumericFeature1  NumericFeature2 CategoricalFeature\n",
       "0        -2.236068        -2.236068                  A\n",
       "1         0.447214         0.447214                  B\n",
       "2         0.447214         0.447214                  A\n",
       "3         0.447214         0.447214                  A\n",
       "4         0.447214         0.447214                  B\n",
       "5         0.447214         0.447214                  C"
      ]
     },
     "execution_count": 15,
     "metadata": {},
     "output_type": "execute_result"
    }
   ],
   "source": [
    "preprocessed_df"
   ]
  },
  {
   "cell_type": "code",
   "execution_count": 16,
   "id": "e598c20c",
   "metadata": {},
   "outputs": [
    {
     "data": {
      "text/html": [
       "<div>\n",
       "<style scoped>\n",
       "    .dataframe tbody tr th:only-of-type {\n",
       "        vertical-align: middle;\n",
       "    }\n",
       "\n",
       "    .dataframe tbody tr th {\n",
       "        vertical-align: top;\n",
       "    }\n",
       "\n",
       "    .dataframe thead th {\n",
       "        text-align: right;\n",
       "    }\n",
       "</style>\n",
       "<table border=\"1\" class=\"dataframe\">\n",
       "  <thead>\n",
       "    <tr style=\"text-align: right;\">\n",
       "      <th></th>\n",
       "      <th>NumericFeature1</th>\n",
       "      <th>NumericFeature2</th>\n",
       "      <th>CategoricalFeature</th>\n",
       "    </tr>\n",
       "  </thead>\n",
       "  <tbody>\n",
       "    <tr>\n",
       "      <th>0</th>\n",
       "      <td>-2.236068</td>\n",
       "      <td>-2.236068</td>\n",
       "      <td>A</td>\n",
       "    </tr>\n",
       "    <tr>\n",
       "      <th>1</th>\n",
       "      <td>0.447214</td>\n",
       "      <td>0.447214</td>\n",
       "      <td>B</td>\n",
       "    </tr>\n",
       "    <tr>\n",
       "      <th>2</th>\n",
       "      <td>0.447214</td>\n",
       "      <td>0.447214</td>\n",
       "      <td>A</td>\n",
       "    </tr>\n",
       "    <tr>\n",
       "      <th>3</th>\n",
       "      <td>0.447214</td>\n",
       "      <td>0.447214</td>\n",
       "      <td>A</td>\n",
       "    </tr>\n",
       "    <tr>\n",
       "      <th>4</th>\n",
       "      <td>0.447214</td>\n",
       "      <td>0.447214</td>\n",
       "      <td>B</td>\n",
       "    </tr>\n",
       "    <tr>\n",
       "      <th>5</th>\n",
       "      <td>0.447214</td>\n",
       "      <td>0.447214</td>\n",
       "      <td>C</td>\n",
       "    </tr>\n",
       "  </tbody>\n",
       "</table>\n",
       "</div>"
      ],
      "text/plain": [
       "   NumericFeature1  NumericFeature2 CategoricalFeature\n",
       "0        -2.236068        -2.236068                  A\n",
       "1         0.447214         0.447214                  B\n",
       "2         0.447214         0.447214                  A\n",
       "3         0.447214         0.447214                  A\n",
       "4         0.447214         0.447214                  B\n",
       "5         0.447214         0.447214                  C"
      ]
     },
     "execution_count": 16,
     "metadata": {},
     "output_type": "execute_result"
    }
   ],
   "source": [
    "df"
   ]
  },
  {
   "cell_type": "code",
   "execution_count": null,
   "id": "aa0d298e",
   "metadata": {},
   "outputs": [],
   "source": []
  }
 ],
 "metadata": {
  "kernelspec": {
   "display_name": "Python 3 (ipykernel)",
   "language": "python",
   "name": "python3"
  },
  "language_info": {
   "codemirror_mode": {
    "name": "ipython",
    "version": 3
   },
   "file_extension": ".py",
   "mimetype": "text/x-python",
   "name": "python",
   "nbconvert_exporter": "python",
   "pygments_lexer": "ipython3",
   "version": "3.10.9"
  }
 },
 "nbformat": 4,
 "nbformat_minor": 5
}
